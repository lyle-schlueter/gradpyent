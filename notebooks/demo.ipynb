{
 "cells": [
  {
   "cell_type": "code",
   "execution_count": 1,
   "id": "92696c4e-e636-4072-94eb-aa77e2d60b91",
   "metadata": {},
   "outputs": [],
   "source": [
    "import matplotlib.pyplot as plt\n",
    "import numpy as np\n",
    "# import gradpyent\n",
    "from gradpyent import Gradient\n",
    "from matplotlib import colors\n",
    "import random\n",
    "import pandas"
   ]
  },
  {
   "cell_type": "markdown",
   "id": "9086fcdf-9398-4e77-95ac-205f6250b772",
   "metadata": {},
   "source": [
    "## Basic example"
   ]
  },
  {
   "cell_type": "code",
   "execution_count": 3,
   "id": "6581cb35-9cf2-4af7-b92d-1991312d9c71",
   "metadata": {},
   "outputs": [
    {
     "data": {
      "image/png": "[encoded data removed]",
      "text/plain": [
       "<Figure size 800x100 with 1 Axes>"
      ]
     },
     "metadata": {},
     "output_type": "display_data"
    }
   ],
   "source": [
    "size = 50\n",
    "\n",
    "# Create an iterable of values\n",
    "series = range(0, size, 1)\n",
    "\n",
    "# Instantiate and set start and end colors\n",
    "grad = Gradient(\n",
    "    gradient_start=\"blue\",\n",
    "    gradient_end=\"red\",\n",
    ")\n",
    "\n",
    "# Create the gradient series\n",
    "lst_colors = grad.get_gradient_series(\n",
    "    series=series,\n",
    "    fmt=\"html\",\n",
    ")\n",
    "\n",
    "# Create a discrete color map\n",
    "cmap = colors.ListedColormap(lst_colors)\n",
    "\n",
    "# Create a fake image to create colorbar\n",
    "img = np.array([list(range(size))])\n",
    "\n",
    "# Create a figure\n",
    "plt.figure(figsize=(8, 1))\n",
    "\n",
    "# Remove plot frame\n",
    "plt.gca().set_frame_on(False)\n",
    "\n",
    "# Hide axes ticks and labels\n",
    "plt.xticks([])\n",
    "plt.yticks([])\n",
    "\n",
    "# Plot image\n",
    "plt.imshow(img, cmap=cmap)\n",
    "\n",
    "plt.show()"
   ]
  },
  {
   "cell_type": "markdown",
   "id": "db322dad-44e0-47f7-a03b-5345e01fa69b",
   "metadata": {},
   "source": [
    "## Values not sorted"
   ]
  },
  {
   "cell_type": "code",
   "execution_count": 4,
   "id": "bce01a77-dfbc-4ec0-ab2f-769883049c8a",
   "metadata": {},
   "outputs": [
    {
     "data": {
      "image/png": "[encoded data removed]",
      "text/plain": [
       "<Figure size 800x100 with 1 Axes>"
      ]
     },
     "metadata": {},
     "output_type": "display_data"
    }
   ],
   "source": [
    "size = 30\n",
    "\n",
    "# Create an iterable of values\n",
    "series = [random.random() for _ in range(size)]\n",
    "\n",
    "# Instantiate and set start and end colors\n",
    "grad = Gradient(\n",
    "    gradient_start=\"blue\",\n",
    "    gradient_end=\"red\",\n",
    ")\n",
    "\n",
    "# Create the gradient series\n",
    "lst_colors = grad.get_gradient_series(\n",
    "    series=series,\n",
    "    fmt=\"html\",\n",
    ")\n",
    "\n",
    "# Create a discrete color map\n",
    "cmap = colors.ListedColormap(lst_colors)\n",
    "\n",
    "# Create a fake image to create colorbar\n",
    "img = np.array([list(range(size))])\n",
    "\n",
    "# Create a figure\n",
    "plt.figure(figsize=(8, 1))\n",
    "\n",
    "# Remove plot frame\n",
    "plt.gca().set_frame_on(False)\n",
    "\n",
    "# Hide axes ticks and labels\n",
    "plt.xticks([])\n",
    "plt.yticks([])\n",
    "\n",
    "# Plot image\n",
    "plt.imshow(img, cmap=cmap)\n",
    "\n",
    "plt.show()"
   ]
  },
  {
   "cell_type": "markdown",
   "id": "b035bc29-67e4-445a-b2dd-9bb4f7a683e3",
   "metadata": {},
   "source": [
    "## Gradpyent scales values as needed"
   ]
  },
  {
   "cell_type": "code",
   "execution_count": 5,
   "id": "87db74e3-c0c6-4b8e-a085-90df99d6bc3b",
   "metadata": {},
   "outputs": [
    {
     "name": "stdout",
     "output_type": "stream",
     "text": [
      "[84, 96, 5, 78, 36, 15, 75, 5, 46, 13, 37, 12, 96, 79, 48, 23, 81, 49, 60, 32]\n"
     ]
    },
    {
     "data": {
      "image/png": "[encoded data removed]",
      "text/plain": [
       "<Figure size 800x100 with 1 Axes>"
      ]
     },
     "metadata": {},
     "output_type": "display_data"
    }
   ],
   "source": [
    "size = 20\n",
    "\n",
    "# Create an iterable of values\n",
    "series = [int(random.random() * 100) for _ in range(size)]\n",
    "\n",
    "print(series)\n",
    "\n",
    "# Instantiate and set start and end colors\n",
    "grad = Gradient(\n",
    "    gradient_start=\"blue\",\n",
    "    gradient_end=\"red\",\n",
    ")\n",
    "\n",
    "# Create the gradient series\n",
    "lst_colors = grad.get_gradient_series(\n",
    "    series=series,\n",
    "    fmt=\"html\",\n",
    ")\n",
    "\n",
    "# Create a discrete color map\n",
    "cmap = colors.ListedColormap(lst_colors)\n",
    "\n",
    "# Create a fake image to create colorbar\n",
    "img = np.array([list(range(size))])\n",
    "\n",
    "# Create a figure\n",
    "plt.figure(figsize=(8, 1))\n",
    "\n",
    "# Remove plot frame\n",
    "plt.gca().set_frame_on(False)\n",
    "\n",
    "# Hide axes ticks and labels\n",
    "plt.xticks([])\n",
    "plt.yticks([])\n",
    "\n",
    "# Plot image\n",
    "plt.imshow(img, cmap=cmap)\n",
    "\n",
    "plt.show()"
   ]
  },
  {
   "cell_type": "markdown",
   "id": "ba6810ef-5ff1-4e43-a385-ac0de57ee9b0",
   "metadata": {},
   "source": [
    "## Pandas column as input"
   ]
  },
  {
   "cell_type": "code",
   "execution_count": 6,
   "id": "d2d26863-a995-4bbf-add3-4b354b39ec8e",
   "metadata": {},
   "outputs": [
    {
     "name": "stdout",
     "output_type": "stream",
     "text": [
      "Original dataframe head:\n",
      "      value\n",
      "0  0.191479\n",
      "1  0.588337\n",
      "2  0.756199\n",
      "3  0.959172\n",
      "4  0.265049\n",
      "\n",
      "Dataframe head with color column added:\n",
      "      value   colors\n",
      "0  0.191479  #2e00d0\n",
      "1  0.588337  #9a0064\n",
      "2  0.756199  #c70037\n",
      "3  0.959172  #ff0000\n",
      "4  0.265049  #4200bc\n"
     ]
    },
    {
     "data": {
      "image/png": "[encoded data removed]",
      "text/plain": [
       "<Figure size 800x100 with 1 Axes>"
      ]
     },
     "metadata": {},
     "output_type": "display_data"
    }
   ],
   "source": [
    "size = 20\n",
    "\n",
    "# Create an iterable of values\n",
    "df = pandas.DataFrame({\n",
    "    \"value\":  [random.random() for _ in range(size)]\n",
    "})\n",
    "\n",
    "print(\"Original dataframe head:\")\n",
    "print(df.head())\n",
    "\n",
    "# Instantiate and set start and end colors\n",
    "grad = Gradient(\n",
    "    gradient_start=\"blue\",\n",
    "    gradient_end=\"red\",\n",
    ")\n",
    "\n",
    "# Create the gradient series\n",
    "df[\"colors\"] = grad.get_gradient_series(\n",
    "    series=df[\"value\"],\n",
    "    fmt=\"html\",\n",
    ")\n",
    "\n",
    "print(\"\\nDataframe head with color column added:\")\n",
    "print(df.head())\n",
    "\n",
    "# Create a discrete color map\n",
    "cmap = colors.ListedColormap(df[\"colors\"])\n",
    "\n",
    "# Create a fake image to create colorbar\n",
    "img = np.array([list(range(len(df)))])\n",
    "\n",
    "# Create a figure\n",
    "plt.figure(figsize=(8, 1))\n",
    "\n",
    "# Remove plot frame\n",
    "plt.gca().set_frame_on(False)\n",
    "\n",
    "# Hide axes ticks and labels\n",
    "plt.xticks([])\n",
    "plt.yticks([])\n",
    "\n",
    "# Plot image\n",
    "plt.imshow(img, cmap=cmap)\n",
    "\n",
    "plt.show()"
   ]
  },
  {
   "cell_type": "code",
   "execution_count": null,
   "id": "8cce53fb-8947-41ff-a2a6-efe60af263fc",
   "metadata": {},
   "outputs": [],
   "source": []
  }
 ],
 "metadata": {
  "kernelspec": {
   "display_name": "Python 3 (ipykernel)",
   "language": "python",
   "name": "python3"
  },
  "language_info": {
   "codemirror_mode": {
    "name": "ipython",
    "version": 3
   },
   "file_extension": ".py",
   "mimetype": "text/x-python",
   "name": "python",
   "nbconvert_exporter": "python",
   "pygments_lexer": "ipython3",
   "version": "3.11.4"
  }
 },
 "nbformat": 4,
 "nbformat_minor": 5
}
