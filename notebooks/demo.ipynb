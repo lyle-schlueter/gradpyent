{
 "cells": [
  {
   "cell_type": "code",
   "execution_count": 1,
   "id": "bf6fe004-16a6-4eaa-9e41-2bb861afde38",
   "metadata": {
    "ExecuteTime": {
     "end_time": "2023-07-26T23:33:49.258244100Z",
     "start_time": "2023-07-26T23:33:48.380512600Z"
    }
   },
   "outputs": [],
   "source": [
    "import gradpyent\n",
    "from gradpyent import gradient"
   ]
  },
  {
   "cell_type": "code",
   "execution_count": 5,
   "outputs": [],
   "source": [
    "series = range(0,255,10)"
   ],
   "metadata": {
    "collapsed": false,
    "ExecuteTime": {
     "end_time": "2023-07-26T23:35:01.537946200Z",
     "start_time": "2023-07-26T23:35:01.498459700Z"
    }
   },
   "id": "a913b65e2f9c0db0"
  },
  {
   "cell_type": "code",
   "execution_count": 6,
   "outputs": [],
   "source": [
    "grad = gradient.Gradient(\n",
    "    gradient_start=\"blue\",\n",
    "    gradient_end=\"red\",\n",
    ")"
   ],
   "metadata": {
    "collapsed": false,
    "ExecuteTime": {
     "end_time": "2023-07-26T23:37:17.999050400Z",
     "start_time": "2023-07-26T23:37:17.983034500Z"
    }
   },
   "id": "363ed04e9aea54f6"
  },
  {
   "cell_type": "code",
   "execution_count": 7,
   "outputs": [
    {
     "name": "stderr",
     "output_type": "stream",
     "text": [
      "C:\\Users\\shooter\\PycharmProjects\\gradpyent\\src\\gradpyent\\gradient.py:66\n",
      "UserWarning: series was out of bounds and will be scaled: \n"
     ]
    },
    {
     "data": {
      "text/plain": "['#0000ff',\n '#0a00f4',\n '#1400ea',\n '#1e00e0',\n '#2800d6',\n '#3300cc',\n '#3d00c1',\n '#4700b7',\n '#5100ad',\n '#5b00a3',\n '#660099',\n '#70008e',\n '#7a0084',\n '#84007a',\n '#8e0070',\n '#990066',\n '#a3005b',\n '#ad0051',\n '#b70047',\n '#c1003d',\n '#cc0033',\n '#d60028',\n '#e0001e',\n '#ea0014',\n '#f4000a',\n '#ff0000']"
     },
     "execution_count": 7,
     "metadata": {},
     "output_type": "execute_result"
    }
   ],
   "source": [
    "grad.get_gradient_series(\n",
    "    series=series,\n",
    "    fmt=\"html\",\n",
    ")"
   ],
   "metadata": {
    "collapsed": false,
    "ExecuteTime": {
     "end_time": "2023-07-26T23:37:19.249886400Z",
     "start_time": "2023-07-26T23:37:19.186469200Z"
    }
   },
   "id": "71d32f63d2c491a"
  },
  {
   "cell_type": "code",
   "execution_count": null,
   "outputs": [],
   "source": [],
   "metadata": {
    "collapsed": false
   },
   "id": "cd0137ac7c286c72"
  }
 ],
 "metadata": {
  "kernelspec": {
   "display_name": "Python 3 (ipykernel)",
   "language": "python",
   "name": "python3"
  },
  "language_info": {
   "codemirror_mode": {
    "name": "ipython",
    "version": 3
   },
   "file_extension": ".py",
   "mimetype": "text/x-python",
   "name": "python",
   "nbconvert_exporter": "python",
   "pygments_lexer": "ipython3",
   "version": "3.9.13"
  }
 },
 "nbformat": 4,
 "nbformat_minor": 5
}
